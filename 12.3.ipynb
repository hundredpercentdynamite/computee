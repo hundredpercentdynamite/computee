{
 "cells": [
  {
   "cell_type": "code",
   "execution_count": 54,
   "metadata": {},
   "outputs": [],
   "source": [
    "from scipy.special import roots_legendre\n",
    "\n",
    "ti = roots_legendre(7)\n",
    "# a = 2.4\n",
    "# b = 4\n",
    "a = -2\n",
    "b = 0"
   ]
  },
  {
   "cell_type": "code",
   "execution_count": 55,
   "metadata": {},
   "outputs": [],
   "source": [
    "def Gaus_x(a, b, ti):\n",
    "    answer = []\n",
    "    for i in range(0, 7):\n",
    "        answer.append(((a + b)/2) + ((b - a)/2) * ti[0][i] )\n",
    "    return answer"
   ]
  },
  {
   "cell_type": "code",
   "execution_count": 56,
   "metadata": {},
   "outputs": [],
   "source": [
    "def Gaus_c(a, b, ti):\n",
    "    answer = []\n",
    "    for i in range(0, 7):\n",
    "        answer.append(((b - a)/ 2) * ti[1][i] )\n",
    "    return answer"
   ]
  },
  {
   "cell_type": "code",
   "execution_count": 57,
   "metadata": {},
   "outputs": [],
   "source": [
    "import math\n",
    "\n",
    "\n",
    "def Y(x):\n",
    "    answer = []\n",
    "    for i in range(0, 7):\n",
    "        answer.append(1/math.sqrt(1-x[i]))\n",
    "    return answer"
   ]
  },
  {
   "cell_type": "code",
   "execution_count": 58,
   "metadata": {},
   "outputs": [],
   "source": [
    "def I(c, y):\n",
    "    answer = []\n",
    "    for i in range(0, 7):\n",
    "        answer.append(c[i]*y[i])\n",
    "    return sum(answer)"
   ]
  },
  {
   "cell_type": "code",
   "execution_count": 59,
   "metadata": {},
   "outputs": [
    {
     "data": {
      "text/plain": "[-1.9491079123427584,\n -1.7415311855993945,\n -1.405845151377397,\n -1.0,\n -0.5941548486226028,\n -0.25846881440060554,\n -0.050892087657241625]"
     },
     "execution_count": 59,
     "metadata": {},
     "output_type": "execute_result"
    }
   ],
   "source": [
    "x = Gaus_x(a, b, ti)\n",
    "x"
   ]
  },
  {
   "cell_type": "code",
   "execution_count": 60,
   "metadata": {},
   "outputs": [
    {
     "data": {
      "text/plain": "[0.12948496616886998,\n 0.27970539148927664,\n 0.38183005050511876,\n 0.4179591836734691,\n 0.38183005050511876,\n 0.27970539148927664,\n 0.12948496616886998]"
     },
     "execution_count": 60,
     "metadata": {},
     "output_type": "execute_result"
    }
   ],
   "source": [
    "c = Gaus_c(a, b, ti)\n",
    "c"
   ]
  },
  {
   "cell_type": "code",
   "execution_count": 61,
   "metadata": {},
   "outputs": [
    {
     "data": {
      "text/plain": "[0.5823105625097278,\n 0.6039533642180884,\n 0.6447126095562156,\n 0.7071067811865475,\n 0.7920174455777024,\n 0.8914126052110976,\n 0.9754857710158892]"
     },
     "execution_count": 61,
     "metadata": {},
     "output_type": "execute_result"
    }
   ],
   "source": [
    "y = Y(x)\n",
    "y"
   ]
  },
  {
   "cell_type": "code",
   "execution_count": 62,
   "metadata": {},
   "outputs": [
    {
     "data": {
      "text/plain": "1.4641016119921964"
     },
     "execution_count": 62,
     "metadata": {},
     "output_type": "execute_result"
    }
   ],
   "source": [
    "i = I(c, y)\n",
    "i"
   ]
  }
 ],
 "metadata": {
  "kernelspec": {
   "display_name": "Python 3",
   "language": "python",
   "name": "python3"
  },
  "language_info": {
   "codemirror_mode": {
    "name": "ipython",
    "version": 3
   },
   "file_extension": ".py",
   "mimetype": "text/x-python",
   "name": "python",
   "nbconvert_exporter": "python",
   "pygments_lexer": "ipython3",
   "version": "3.7.6"
  }
 },
 "nbformat": 4,
 "nbformat_minor": 4
}