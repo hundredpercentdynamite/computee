{
 "cells": [
  {
   "cell_type": "markdown",
   "metadata": {
    "collapsed": true,
    "pycharm": {
     "name": "#%% md\n"
    }
   },
   "source": [
    "https://pythonnumericalmethods.berkeley.edu/notebooks/chapter23.03-Finite-Difference-Method.html\n",
    "http://www.mitht.rssi.ru/it/pdf/cm/4_kraj.pdf\n",
    "\n",
    "2. Вычисление параметров pi, qi, fi в узловых точках.\n",
    "3. Составление системы ур-ний (11).\n",
    "4. Составление 0-го и n-го уравнений.\n",
    "5. Удаление переменных и преобразование 0-го и n-го уравнений (раздел 3).\n",
    "6. Решение СЛАУ  (метод прогонки).\n",
    "7. Анализ устойчивости. Надо просчитать задачу для n и для 2n узлов, так, чтобы различия в общих узлах составляли не более 1%.\n",
    "\n",
    "## Краевые условия\n",
    "c1y(a) + c2y'(a) = c\n",
    "d1y(b) + d2y'(b) = d\n",
    "\n",
    "_альтернативный вид_\n",
    "a0y(a) + a1y'(a) = 0\n",
    "b0y(b) + b1y'(b) = 0\n",
    "\n",
    "\n",
    "## Задача\n",
    "дифур y'' + y = 1;\n",
    "краевые условия:    y(0) = 0;   y(pi) = 0;\n",
    "отсюда\n",
    "p = 0, q = 1, f = 1\n",
    "c1 = 1, c = 0;\n",
    "d1 = 1, d = 0;\n",
    "\n",
    "На [a, b] ввести сетку с шагом h = (b - a) / n\n",
    "x0 = a; xn = b; xi = x0 + ih = xi-1 + h;      yi ~ y(xi) - точное решение"
   ]
  },
  {
   "cell_type": "code",
   "execution_count": 8,
   "outputs": [],
   "source": [
    "import numpy as np\n",
    "\n",
    "def diff(y):\n",
    "    return 1 - y\n",
    "\n",
    "p = 0\n",
    "q = 1\n",
    "f = 1\n",
    "c1 = 1\n",
    "c = 0\n",
    "d1 = 1\n",
    "d = 0\n",
    "\n",
    "a = 0\n",
    "b = np.pi\n",
    "\n",
    "# шаги\n",
    "n = 20\n",
    "h = b / n\n",
    "# h = 0.2\n",
    "# n = int(np.floor((b - a) / h))\n"
   ],
   "metadata": {
    "collapsed": false,
    "pycharm": {
     "name": "#%%\n"
    }
   }
  },
  {
   "cell_type": "code",
   "execution_count": 9,
   "outputs": [
    {
     "name": "stdout",
     "output_type": "stream",
     "text": [
      "B [ 0.07853982 -0.02467401 -0.02467401 -0.02467401 -0.02467401 -0.02467401\n",
      " -0.02467401 -0.02467401 -0.02467401 -0.02467401 -0.02467401 -0.02467401\n",
      " -0.02467401 -0.02467401 -0.02467401 -0.02467401 -0.02467401 -0.02467401\n",
      " -0.02467401 -0.02467401 -0.07853982]\n"
     ]
    }
   ],
   "source": [
    "import math\n",
    "\n",
    "b0 = (-2/(h * (2 - p * h))) + ((q * h) / (2 - p * h)) + c1\n",
    "c0 = 2 / (h * (2 - p * h))\n",
    "d0 = 0 + ((h * 1) / (2 - p * h))\n",
    "\n",
    "an = (-2/(h * (2 + p * h)))\n",
    "bn = 2 / (h * (2 + p * h)) - ((q * h) / (2 + p * h)) + 1\n",
    "cn = 0\n",
    "dn = 0 - ((h * 1) / (2 + p * h))\n",
    "\n",
    "A = np.zeros((n + 1, n + 1))\n",
    "# A[0, 0] = 1 # - вот тут хз какие коэф засунуть для первого ур-я\n",
    "A[0, 0] = b0 # - вот тут хз какие коэф засунуть для первого ур-я\n",
    "A[0, 1] = c0 # - вот тут хз какие коэф засунуть для первого ур-я\n",
    "\n",
    "A[n, n - 1] = an # - вот тут хз какие коэф засунуть для последнего ур-я\n",
    "A[n, n] = bn # - вот тут хз какие коэф засунуть для последнего ур-я\n",
    "# A[n, n] = 1 # - вот тут хз какие коэф засунуть для последнего ур-я\n",
    "\n",
    "# коэф для yi-1\n",
    "def get_first():\n",
    "    return 1 - (h * p)/2\n",
    "\n",
    "# коэф для yi\n",
    "def get_second():\n",
    "    return (math.pow(h, 2) * q - 2)\n",
    "\n",
    "# коэф для yi+1\n",
    "def get_third():\n",
    "    return 1 + (h * p)/2\n",
    "\n",
    "for i in range(n):\n",
    "    if i == 0: continue\n",
    "    A[i, i - 1] = get_first()\n",
    "    A[i, i] = get_second()\n",
    "    A[i, i + 1] = get_third()\n",
    "\n",
    "B = np.zeros(n + 1)\n",
    "B[1: -1] = -math.pow(h, 2) * 1 ## тут типа коэф h^2 * f для i = 1, 2, 3\n",
    "B[0] = d0 # надо какой-то для первого\n",
    "B[-1] = dn # надо какой-то для последнего вставить\n",
    "\n",
    "print('B', B)"
   ],
   "metadata": {
    "collapsed": false,
    "pycharm": {
     "name": "#%%\n"
    }
   }
  },
  {
   "cell_type": "code",
   "execution_count": 10,
   "outputs": [
    {
     "name": "stdout",
     "output_type": "stream",
     "text": [
      "[ 308.33297651  256.1085772   197.54027802  134.07319384   67.27331218\n",
      "   -1.21114593  -69.69039422 -136.47477497 -199.91644963 -258.45005762\n",
      " -310.63134006 -355.17277541 -390.9753478  -417.15566417 -433.06775111\n",
      " -438.31899359 -432.77982242 -416.58691116 -390.13980388 -354.0910568\n",
      " -309.33013709]\n"
     ]
    }
   ],
   "source": [
    "Y = np.linalg.solve(A, B)\n",
    "t = np.linspace(-10, 10, n + 1)\n",
    "print(Y)"
   ],
   "metadata": {
    "collapsed": false,
    "pycharm": {
     "name": "#%%\n"
    }
   }
  },
  {
   "cell_type": "code",
   "execution_count": 11,
   "outputs": [
    {
     "data": {
      "text/plain": "<Figure size 720x576 with 1 Axes>",
      "image/png": "[encoded data removed]"
     },
     "metadata": {
      "needs_background": "light"
     },
     "output_type": "display_data"
    }
   ],
   "source": [
    "import matplotlib.pyplot as plt\n",
    "\n",
    "plt.figure(figsize=(10,8))\n",
    "plt.plot(B, Y)\n",
    "plt.xlabel('x')\n",
    "plt.ylabel('y')\n",
    "plt.show()"
   ],
   "metadata": {
    "collapsed": false,
    "pycharm": {
     "name": "#%%\n"
    }
   }
  },
  {
   "cell_type": "code",
   "execution_count": 11,
   "outputs": [],
   "source": [],
   "metadata": {
    "collapsed": false,
    "pycharm": {
     "name": "#%%\n"
    }
   }
  }
 ],
 "metadata": {
  "kernelspec": {
   "display_name": "Python 3",
   "language": "python",
   "name": "python3"
  },
  "language_info": {
   "codemirror_mode": {
    "name": "ipython",
    "version": 2
   },
   "file_extension": ".py",
   "mimetype": "text/x-python",
   "name": "python",
   "nbconvert_exporter": "python",
   "pygments_lexer": "ipython2",
   "version": "2.7.6"
  }
 },
 "nbformat": 4,
 "nbformat_minor": 0
}