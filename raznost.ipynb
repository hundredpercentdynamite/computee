{
 "cells": [
  {
   "cell_type": "markdown",
   "metadata": {
    "collapsed": true,
    "pycharm": {
     "name": "#%% md\n"
    }
   },
   "source": [
    "https://pythonnumericalmethods.berkeley.edu/notebooks/chapter23.03-Finite-Difference-Method.html\n",
    "http://www.mitht.rssi.ru/it/pdf/cm/4_kraj.pdf\n",
    "\n",
    "2. Вычисление параметров pi, qi, fi в узловых точках.\n",
    "3. Составление системы ур-ний (11).\n",
    "4. Составление 0-го и n-го уравнений.\n",
    "5. Удаление переменных и преобразование 0-го и n-го уравнений (раздел 3).\n",
    "6. Решение СЛАУ  (метод прогонки).\n",
    "7. Анализ устойчивости. Надо просчитать задачу для n и для 2n узлов, так, чтобы различия в общих узлах составляли не более 1%.\n",
    "\n",
    "## Краевые условия\n",
    "c1y(a) + c2y'(a) = c\n",
    "d1y(b) + d2y'(b) = d\n",
    "\n",
    "_альтернативный вид_\n",
    "a0y(a) + a1y'(a) = 0\n",
    "b0y(b) + b1y'(b) = 0\n",
    "\n",
    "\n",
    "## Задача\n",
    "дифур y'' + y = 1;\n",
    "краевые условия:    y(0) = 0;   y(pi) = 0;\n",
    "отсюда\n",
    "p = 0, q = 1, f = 1\n",
    "c1 = 1, c = 0;\n",
    "d1 = 1, d = 0;\n",
    "\n",
    "На [a, b] ввести сетку с шагом h = (b - a) / n\n",
    "x0 = a; xn = b; xi = x0 + ih = xi-1 + h;      yi ~ y(xi) - точное решение"
   ]
  },
  {
   "cell_type": "code",
   "execution_count": 17,
   "outputs": [],
   "source": [
    "import numpy as np\n",
    "\n",
    "def diff(y):\n",
    "    return 1 - y\n",
    "\n",
    "p = 0\n",
    "q = 1\n",
    "f = 1\n",
    "c1 = 1\n",
    "c = 0\n",
    "d1 = 1\n",
    "d = 0\n",
    "\n",
    "a = 0\n",
    "b = np.pi\n",
    "\n",
    "# шаги\n",
    "h = 0.1\n",
    "n = int(np.floor((b - a) / h))\n"
   ],
   "metadata": {
    "collapsed": false,
    "pycharm": {
     "name": "#%%\n"
    }
   }
  },
  {
   "cell_type": "code",
   "execution_count": 18,
   "outputs": [],
   "source": [
    "import math\n",
    "\n",
    "A = np.zeros((n + 1, n + 1))\n",
    "A[0, 0] = c1 * h # - вот тут хз какие коэф засунуть для первого ур-я\n",
    "A[n, n] = d1 * h + 0 # - вот тут хз какие коэф засунуть для последнего ур-я\n",
    "\n",
    "# коэф для yi-1\n",
    "def get_first():\n",
    "    return 1 - (h * p)/2\n",
    "\n",
    "# коэф для yi\n",
    "def get_second():\n",
    "    return -(2 - math.pow(h, 2) * q)\n",
    "\n",
    "# коэф для yi+1\n",
    "def get_third():\n",
    "    return 1 + (h * p)/2\n",
    "\n",
    "for i in range(n):\n",
    "    if i == 0: continue\n",
    "    A[i, i - 1] = get_first()\n",
    "    A[i, i] = get_second()\n",
    "    A[i, i + 1] = get_third()\n",
    "\n",
    "B = np.zeros(n + 1)\n",
    "B[1: -1] = -math.pow(h, 2) ## тут типа коэф h^2 * f для i = 1, 2, 3\n",
    "B[-1] = 0 # надо какой-то для последнего вставить"
   ],
   "metadata": {
    "collapsed": false,
    "pycharm": {
     "name": "#%%\n"
    }
   }
  },
  {
   "cell_type": "code",
   "execution_count": 19,
   "outputs": [
    {
     "name": "stdout",
     "output_type": "stream",
     "text": [
      "[3.44613227e-13 4.95095857e+00 9.84240755e+00 1.46254325e+01\n",
      " 1.92522030e+01 2.36764516e+01 2.78539356e+01 3.17428803e+01\n",
      " 3.53043962e+01 3.85028681e+01 4.13063113e+01 4.36866915e+01\n",
      " 4.56202047e+01 4.70875158e+01 4.80739518e+01 4.85696483e+01\n",
      " 4.85696483e+01 4.80739518e+01 4.70875158e+01 4.56202047e+01\n",
      " 4.36866915e+01 4.13063113e+01 3.85028681e+01 3.53043962e+01\n",
      " 3.17428803e+01 2.78539356e+01 2.36764516e+01 1.92522030e+01\n",
      " 1.46254325e+01 9.84240755e+00 4.95095857e+00 0.00000000e+00]\n"
     ]
    }
   ],
   "source": [
    "Y = np.linalg.solve(A, B)\n",
    "t = np.linspace(-10, 10, n + 1)\n",
    "print(Y)"
   ],
   "metadata": {
    "collapsed": false,
    "pycharm": {
     "name": "#%%\n"
    }
   }
  },
  {
   "cell_type": "code",
   "execution_count": 20,
   "outputs": [
    {
     "data": {
      "text/plain": "<Figure size 720x576 with 1 Axes>",
      "image/png": "[encoded data removed]"
     },
     "metadata": {
      "needs_background": "light"
     },
     "output_type": "display_data"
    }
   ],
   "source": [
    "import matplotlib.pyplot as plt\n",
    "\n",
    "plt.figure(figsize=(10,8))\n",
    "plt.plot(t, Y)\n",
    "plt.plot(5, 50, 'ro')\n",
    "plt.xlabel('time (s)')\n",
    "plt.ylabel('altitude (m)')\n",
    "plt.show()"
   ],
   "metadata": {
    "collapsed": false,
    "pycharm": {
     "name": "#%%\n"
    }
   }
  }
 ],
 "metadata": {
  "kernelspec": {
   "display_name": "Python 3",
   "language": "python",
   "name": "python3"
  },
  "language_info": {
   "codemirror_mode": {
    "name": "ipython",
    "version": 2
   },
   "file_extension": ".py",
   "mimetype": "text/x-python",
   "name": "python",
   "nbconvert_exporter": "python",
   "pygments_lexer": "ipython2",
   "version": "2.7.6"
  }
 },
 "nbformat": 4,
 "nbformat_minor": 0
}