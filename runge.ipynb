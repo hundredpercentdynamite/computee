{
 "cells": [
  {
   "cell_type": "code",
   "execution_count": 136,
   "metadata": {
    "collapsed": true
   },
   "outputs": [],
   "source": [
    "import math\n",
    "import numpy as np\n",
    "\n",
    "############### Дано всё тут\n",
    "\n",
    "## Дифур сюда\n",
    "def diff(x, y):\n",
    "    return (-3 * math.pow(x, 2) * math.pow(y, 2) - 7) / (2 * math.pow(x, 3) * y)\n",
    "\n",
    "# y(x, c) сюда\n",
    "def gety(x, c=16):\n",
    "    return math.sqrt((c - 7 * x) / math.pow(x, 3))\n",
    "\n",
    "\n",
    "a = 1. # начало отрезка\n",
    "b = 2. # конец отрезка\n",
    "h = 0.1 # шаг\n",
    "\n",
    "oof = np.arange(a, b + h, h)"
   ]
  },
  {
   "cell_type": "code",
   "execution_count": 137,
   "outputs": [],
   "source": [
    "def rk4(xs,y0):\n",
    "\n",
    "    # Calculating step size\n",
    "    global yn\n",
    "    print('\\n--------SOLUTION--------')\n",
    "    print('-------------------------')\n",
    "    print('xi\\tyi\\tk1\\tk2\\tk3\\tk4\\tprecise\\tdelta\\t|diff|')\n",
    "    print('-------------------------')\n",
    "    for x in xs:\n",
    "        k1 = h * (diff(x, y0))\n",
    "        k2 = h * (diff((x+h/2), (y0+k1/2)))\n",
    "        k3 = h * (diff((x+h/2), (y0+k2/2)))\n",
    "        k4 = h * (diff((x+h), (y0+k3)))\n",
    "        k = (k1+2*k2+2*k3+k4)/6\n",
    "        yn = y0 + k\n",
    "        precise = gety(x)\n",
    "        diffbetween = math.fabs(precise - y0)\n",
    "        print('%.5f\\t%.5f\\t%.5f\\t%.5f\\t%.5f\\t%.5f\\t%.5f\\t%.5f\\t%.5f'% (x,y0, k1, k2, k3, k4, precise, k, diffbetween))\n",
    "        print('-------------------------')\n",
    "        y0 = yn"
   ],
   "metadata": {
    "collapsed": false,
    "pycharm": {
     "name": "#%%\n"
    }
   }
  },
  {
   "cell_type": "code",
   "execution_count": 138,
   "outputs": [
    {
     "name": "stdout",
     "output_type": "stream",
     "text": [
      "\n",
      "--------SOLUTION--------\n",
      "-------------------------\n",
      "xi\tyi\tk1\tk2\tk3\tk4\tprecise\tdelta\t|diff|\n",
      "-------------------------\n",
      "1.00000\t3.00000\t-0.56667\t-0.49939\t-0.50283\t-0.44583\t3.00000\t-0.50282\t0.00000\n",
      "-------------------------\n",
      "1.10000\t2.49718\t-0.44583\t-0.39783\t-0.39991\t-0.35874\t2.49718\t-0.40001\t0.00000\n",
      "-------------------------\n",
      "1.20000\t2.09717\t-0.35873\t-0.32358\t-0.32484\t-0.29439\t2.09718\t-0.32499\t0.00000\n",
      "-------------------------\n",
      "1.30000\t1.77218\t-0.29438\t-0.26810\t-0.26885\t-0.24592\t1.77219\t-0.26903\t0.00001\n",
      "-------------------------\n",
      "1.40000\t1.50315\t-0.24591\t-0.22596\t-0.22639\t-0.20890\t1.50316\t-0.22659\t0.00001\n",
      "-------------------------\n",
      "1.50000\t1.27656\t-0.20889\t-0.19362\t-0.19384\t-0.18043\t1.27657\t-0.19404\t0.00001\n",
      "-------------------------\n",
      "1.60000\t1.08252\t-0.18042\t-0.16873\t-0.16880\t-0.15859\t1.08253\t-0.16901\t0.00001\n",
      "-------------------------\n",
      "1.70000\t0.91351\t-0.15859\t-0.14979\t-0.14976\t-0.14222\t0.91352\t-0.14998\t0.00001\n",
      "-------------------------\n",
      "1.80000\t0.76353\t-0.14223\t-0.13598\t-0.13587\t-0.13085\t0.76354\t-0.13613\t0.00001\n",
      "-------------------------\n",
      "1.90000\t0.62740\t-0.13086\t-0.12722\t-0.12709\t-0.12497\t0.62741\t-0.12741\t0.00001\n",
      "-------------------------\n",
      "2.00000\t0.49999\t-0.12500\t-0.12487\t-0.12486\t-0.12754\t0.50000\t-0.12534\t0.00001\n",
      "-------------------------\n"
     ]
    }
   ],
   "source": [
    "rk4(oof, gety(a))"
   ],
   "metadata": {
    "collapsed": false,
    "pycharm": {
     "name": "#%%\n"
    }
   }
  }
 ],
 "metadata": {
  "kernelspec": {
   "display_name": "Python 3",
   "language": "python",
   "name": "python3"
  },
  "language_info": {
   "codemirror_mode": {
    "name": "ipython",
    "version": 2
   },
   "file_extension": ".py",
   "mimetype": "text/x-python",
   "name": "python",
   "nbconvert_exporter": "python",
   "pygments_lexer": "ipython2",
   "version": "2.7.6"
  }
 },
 "nbformat": 4,
 "nbformat_minor": 0
}